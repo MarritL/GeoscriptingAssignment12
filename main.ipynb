{
 "cells": [
  {
   "cell_type": "markdown",
   "metadata": {},
   "source": [
    "# Geoscripting Exercise 12 GISRSArtists\n",
    "## 22 January 2019"
   ]
  },
  {
   "cell_type": "markdown",
   "metadata": {},
   "source": [
    "Imports"
   ]
  },
  {
   "cell_type": "code",
   "execution_count": 4,
   "metadata": {},
   "outputs": [],
   "source": [
    "from geopy.geocoders import Nominatim\n",
    "from owslib.wcs import WebCoverageService\n",
    "from owslib.wfs import WebFeatureService\n",
    "from python.createBoundingBox import createBoundingBox\n",
    "from python.writeGeotiffToFile import writeGeotiffToFile\n",
    "from python.getGeotiffFromWebCoverageService import getGeotiffFromWebCoverageService\n",
    "from python.getDataFromWebFeatureService import getDataFromWebFeatureService\n",
    "from python.calculateBuildingVolume import calculateBuildingVolume\n",
    "from python.visualizeBuildingVolume import visualizeBuildingVolume\n",
    "from python.geocodePlacenameToCoordinates import geocodePlacenameToCoordinates\n",
    "from python.reproject import reproject"
   ]
  },
  {
   "cell_type": "code",
   "execution_count": 3,
   "metadata": {},
   "outputs": [
    {
     "name": "stdout",
     "output_type": "stream",
     "text": [
      "['ahn2_05m_int', 'ahn2_05m_non', 'ahn2_05m_ruw', 'ahn2_5m']\n"
     ]
    }
   ],
   "source": [
    "# get coordinates of Wageningen and reproject to RD New\n",
    "wageningen = geocodePlacenameToCoordinates('Wageningen University')\n",
    "x, y = reproject(wageningen, '4326', '28992')\n",
    "\n",
    "# create bounding box around Wageningen\n",
    "bbox = createBoundingBox(x, y)\n",
    "\n",
    "# get wcs of Wageningen\n",
    "url = 'http://geodata.nationaalgeoregister.nl/ahn2/wcs?service=WCS'\n",
    "version = '1.0.0'\n",
    "wcs = getGeotiffFromWebCoverageService(url, version)\n",
    "print(list(wcs.contents))\n"
   ]
  },
  {
   "cell_type": "code",
   "execution_count": null,
   "metadata": {},
   "outputs": [],
   "source": [
    "# get data from Web Coverage Service\n",
    "url = 'http://geodata.nationaalgeoregister.nl/ahn2/wcs?service=WCS'\n",
    "version = '1.0.0'\n",
    "frmt = 'GEOTIFF_FLOAT32'\n",
    "direc = 'data'\n",
    "getGeotiffFromWebCoverageService(url, version, bbox, \n",
    "                                 'ahn2_05m_ruw', frmt, direc, 'AHN2_05m_DSM')\n",
    "getGeotiffFromWebCoverageService(url, version, bbox, \n",
    "                                 'ahn2_05m_int', frmt, direc, 'AHN2_05m_DTM')"
   ]
  },
  {
   "cell_type": "code",
   "execution_count": null,
   "metadata": {},
   "outputs": [],
   "source": []
  },
  {
   "cell_type": "code",
   "execution_count": null,
   "metadata": {},
   "outputs": [],
   "source": []
  },
  {
   "cell_type": "code",
   "execution_count": null,
   "metadata": {},
   "outputs": [],
   "source": []
  }
 ],
 "metadata": {
  "kernelspec": {
   "display_name": "Python 3",
   "language": "python",
   "name": "python3"
  },
  "language_info": {
   "codemirror_mode": {
    "name": "ipython",
    "version": 3
   },
   "file_extension": ".py",
   "mimetype": "text/x-python",
   "name": "python",
   "nbconvert_exporter": "python",
   "pygments_lexer": "ipython3",
   "version": "3.7.2"
  }
 },
 "nbformat": 4,
 "nbformat_minor": 2
}
