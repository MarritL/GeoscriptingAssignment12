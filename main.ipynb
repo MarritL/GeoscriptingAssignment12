{
 "cells": [
  {
   "cell_type": "markdown",
   "metadata": {},
   "source": [
    "# Geoscripting Exercise 12 GISRSArtists\n",
    "## 22 January 2019"
   ]
  },
  {
   "cell_type": "markdown",
   "metadata": {},
   "source": [
    "Imports"
   ]
  },
  {
   "cell_type": "code",
   "execution_count": 1,
   "metadata": {},
   "outputs": [],
   "source": [
    "from geopy.geocoders import Nominatim\n",
    "import rasterio\n",
    "from owslib.wcs import WebCoverageService\n",
    "from owslib.wfs import WebFeatureService\n",
    "from python.createBoundingBox import createBoundingBox\n",
    "from python.writeGeotiffToFile import writeGeotiffToFile\n",
    "from python.getGeotiffFromWebCoverageService import getGeotiffFromWebCoverageService\n",
    "from python.getDataFromWebFeatureService import getDataFromWebFeatureService\n",
    "from python.calculateBuildingVolume import calculateBuildingVolume\n",
    "from python.visualizeBuildingVolume import visualizeBuildingVolume\n",
    "from python.geocodePlacenameToCoordinates import geocodePlacenameToCoordinates\n",
    "from python.reproject import reproject"
   ]
  },
  {
   "cell_type": "code",
   "execution_count": 5,
   "metadata": {},
   "outputs": [],
   "source": [
    "# get coordinates of Wageningen and reproject to RD New\n",
    "wageningen = geocodePlacenameToCoordinates('Wageningen University')\n",
    "x, y = reproject(wageningen, '4326', '28992')\n",
    "\n",
    "# create bounding box around Wageningen\n",
    "bbox = createBoundingBox(x, y)\n",
    "\n",
    "# get wcs of Wageningen\n",
    "url = 'http://geodata.nationaalgeoregister.nl/ahn2/wcs?service=WCS'\n",
    "version = '1.0.0'\n",
    "direc = 'data'\n",
    "frmt = 'GEOTIFF_FLOAT32'\n",
    "getGeotiffFromWebCoverageService(url, version, bbox, \n",
    "                                 'ahn2_05m_ruw', frmt, direc, 'AHN2_05m_DSM')\n",
    "getGeotiffFromWebCoverageService(url, version, bbox, \n",
    "                                 'ahn2_05m_int', frmt, direc, 'AHN2_05m_DTM')\n"
   ]
  },
  {
   "cell_type": "code",
   "execution_count": 7,
   "metadata": {},
   "outputs": [
    {
     "name": "stdout",
     "output_type": "stream",
     "text": [
      "<class 'numpy.ndarray'>\n"
     ]
    },
    {
     "ename": "AttributeError",
     "evalue": "module 'os' has no attribute 'mkdirs'",
     "output_type": "error",
     "traceback": [
      "\u001b[0;31m---------------------------------------------------------------------------\u001b[0m",
      "\u001b[0;31mAttributeError\u001b[0m                            Traceback (most recent call last)",
      "\u001b[0;32m<ipython-input-7-7ba860ec5712>\u001b[0m in \u001b[0;36m<module>\u001b[0;34m\u001b[0m\n\u001b[1;32m      5\u001b[0m \u001b[0;34m\u001b[0m\u001b[0m\n\u001b[1;32m      6\u001b[0m \u001b[0mkwargs\u001b[0m \u001b[0;34m=\u001b[0m \u001b[0mDSM\u001b[0m\u001b[0;34m.\u001b[0m\u001b[0mmeta\u001b[0m \u001b[0;31m# Copy metadata of rasterio.io.DatasetReader\u001b[0m\u001b[0;34m\u001b[0m\u001b[0;34m\u001b[0m\u001b[0m\n\u001b[0;32m----> 7\u001b[0;31m \u001b[0mwriteGeotiffToFile\u001b[0m\u001b[0;34m(\u001b[0m\u001b[0mbuildingsHeight\u001b[0m\u001b[0;34m,\u001b[0m \u001b[0;34m'output'\u001b[0m\u001b[0;34m,\u001b[0m \u001b[0;34m'buildingsHeight'\u001b[0m\u001b[0;34m,\u001b[0m \u001b[0mkwargs\u001b[0m\u001b[0;34m)\u001b[0m\u001b[0;34m\u001b[0m\u001b[0;34m\u001b[0m\u001b[0m\n\u001b[0m",
      "\u001b[0;32m~/Geoscripting/Lesson12/Exercise12/python/writeGeotiffToFile.py\u001b[0m in \u001b[0;36mwriteGeotiffToFile\u001b[0;34m(raster, directory, filename, kwargs)\u001b[0m\n\u001b[1;32m     19\u001b[0m     \u001b[0mdirFile\u001b[0m \u001b[0;34m=\u001b[0m \u001b[0mdirec\u001b[0m \u001b[0;34m+\u001b[0m \u001b[0mfilename\u001b[0m \u001b[0;34m+\u001b[0m \u001b[0;34m\".tif\"\u001b[0m\u001b[0;34m\u001b[0m\u001b[0;34m\u001b[0m\u001b[0m\n\u001b[1;32m     20\u001b[0m     \u001b[0;32mif\u001b[0m \u001b[0;32mnot\u001b[0m \u001b[0mos\u001b[0m\u001b[0;34m.\u001b[0m\u001b[0mpath\u001b[0m\u001b[0;34m.\u001b[0m\u001b[0mexists\u001b[0m\u001b[0;34m(\u001b[0m\u001b[0mdirec\u001b[0m\u001b[0;34m)\u001b[0m\u001b[0;34m:\u001b[0m\u001b[0;34m\u001b[0m\u001b[0;34m\u001b[0m\u001b[0m\n\u001b[0;32m---> 21\u001b[0;31m         \u001b[0mos\u001b[0m\u001b[0;34m.\u001b[0m\u001b[0mmkdirs\u001b[0m\u001b[0;34m(\u001b[0m\u001b[0mdirec\u001b[0m\u001b[0;34m)\u001b[0m\u001b[0;34m\u001b[0m\u001b[0;34m\u001b[0m\u001b[0m\n\u001b[0m\u001b[1;32m     22\u001b[0m \u001b[0;34m\u001b[0m\u001b[0m\n\u001b[1;32m     23\u001b[0m     \u001b[0;31m# write to specified file\u001b[0m\u001b[0;34m\u001b[0m\u001b[0;34m\u001b[0m\u001b[0;34m\u001b[0m\u001b[0m\n",
      "\u001b[0;31mAttributeError\u001b[0m: module 'os' has no attribute 'mkdirs'"
     ]
    }
   ],
   "source": [
    "DSM = rasterio.open(\"./data/AHN2_05m_DSM.tif\", driver=\"GTiff\")\n",
    "DTM = rasterio.open(\"./data/AHN2_05m_DTM.tif\", driver=\"GTiff\")\n",
    "buildingsHeight = DSM.read() - DTM.read()\n",
    "print(type(buildingsHeight))\n",
    "\n",
    "kwargs = DSM.meta # Copy metadata of rasterio.io.DatasetReader\n",
    "writeGeotiffToFile(buildingsHeight, 'output', 'buildingsHeight', kwargs)"
   ]
  },
  {
   "cell_type": "code",
   "execution_count": null,
   "metadata": {},
   "outputs": [],
   "source": []
  },
  {
   "cell_type": "code",
   "execution_count": null,
   "metadata": {},
   "outputs": [],
   "source": []
  },
  {
   "cell_type": "code",
   "execution_count": null,
   "metadata": {},
   "outputs": [],
   "source": []
  }
 ],
 "metadata": {
  "kernelspec": {
   "display_name": "Python 3",
   "language": "python",
   "name": "python3"
  },
  "language_info": {
   "codemirror_mode": {
    "name": "ipython",
    "version": 3
   },
   "file_extension": ".py",
   "mimetype": "text/x-python",
   "name": "python",
   "nbconvert_exporter": "python",
   "pygments_lexer": "ipython3",
   "version": "3.7.2"
  }
 },
 "nbformat": 4,
 "nbformat_minor": 2
}
