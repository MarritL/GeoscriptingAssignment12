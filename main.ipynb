{
 "cells": [
  {
   "cell_type": "markdown",
   "metadata": {},
   "source": [
    "# Geoscripting Exercise 12 GISRSArtists\n",
    "## 22 January 2019"
   ]
  },
  {
   "cell_type": "markdown",
   "metadata": {},
   "source": [
    "Imports"
   ]
  },
  {
   "cell_type": "code",
   "execution_count": 20,
   "metadata": {},
   "outputs": [
    {
     "ename": "ModuleNotFoundError",
     "evalue": "No module named 'folium'",
     "output_type": "error",
     "traceback": [
      "\u001b[0;31m---------------------------------------------------------------------------\u001b[0m",
      "\u001b[0;31mModuleNotFoundError\u001b[0m                       Traceback (most recent call last)",
      "\u001b[0;32m<ipython-input-20-63f23e6dacb2>\u001b[0m in \u001b[0;36m<module>\u001b[0;34m\u001b[0m\n\u001b[1;32m     12\u001b[0m \u001b[0;32mfrom\u001b[0m \u001b[0mpython\u001b[0m\u001b[0;34m.\u001b[0m\u001b[0mgeocodePlacenameToCoordinates\u001b[0m \u001b[0;32mimport\u001b[0m \u001b[0mgeocodePlacenameToCoordinates\u001b[0m\u001b[0;34m\u001b[0m\u001b[0;34m\u001b[0m\u001b[0m\n\u001b[1;32m     13\u001b[0m \u001b[0;32mfrom\u001b[0m \u001b[0mpython\u001b[0m\u001b[0;34m.\u001b[0m\u001b[0mreproject\u001b[0m \u001b[0;32mimport\u001b[0m \u001b[0mreproject\u001b[0m\u001b[0;34m\u001b[0m\u001b[0;34m\u001b[0m\u001b[0m\n\u001b[0;32m---> 14\u001b[0;31m \u001b[0;32mimport\u001b[0m \u001b[0mfolium\u001b[0m\u001b[0;34m\u001b[0m\u001b[0;34m\u001b[0m\u001b[0m\n\u001b[0m",
      "\u001b[0;31mModuleNotFoundError\u001b[0m: No module named 'folium'"
     ]
    }
   ],
   "source": [
    "from geopy.geocoders import Nominatim\n",
    "import rasterio\n",
    "import rasterstats as rs\n",
    "from owslib.wcs import WebCoverageService\n",
    "from owslib.wfs import WebFeatureService\n",
    "from python.createBoundingBox import createBoundingBox\n",
    "from python.writeGeotiffToFile import writeGeotiffToFile\n",
    "from python.getGeotiffFromWebCoverageService import getGeotiffFromWebCoverageService\n",
    "from python.getDataFromWebFeatureService import getDataFromWebFeatureService\n",
    "from python.calculateBuildingVolume import calculateBuildingVolume\n",
    "from python.visualizeBuildingVolume import visualizeBuildingVolume\n",
    "from python.geocodePlacenameToCoordinates import geocodePlacenameToCoordinates\n",
    "from python.reproject import reproject"
   ]
  },
  {
   "cell_type": "code",
   "execution_count": 7,
   "metadata": {},
   "outputs": [
    {
     "name": "stdout",
     "output_type": "stream",
     "text": [
      "coordinates: 173994.1578792833, 444133.60329471016\n",
      "bbox: (173494.1578792833, 443633.60329471016, 174494.1578792833, 444633.60329471016)\n"
     ]
    }
   ],
   "source": [
    "# get coordinates of Wageningen and reproject to RD New\n",
    "wageningen = geocodePlacenameToCoordinates('Wageningen University')\n",
    "x, y = reproject(wageningen, '4326', '28992')\n",
    "print(\"coordinates: \" + str(x) + \", \" + str(y))\n",
    "\n",
    "# create bounding box around Wageningen\n",
    "bbox = createBoundingBox(x, y)\n",
    "print(\"bbox: \" + str(bbox))\n",
    "\n",
    "# get wcs of Wageningen\n",
    "url = 'http://geodata.nationaalgeoregister.nl/ahn2/wcs?service=WCS'\n",
    "version = '1.0.0'\n",
    "direc = 'data'\n",
    "frmt = 'GEOTIFF_FLOAT32'\n",
    "getGeotiffFromWebCoverageService(url, version, bbox, \n",
    "                                 'ahn2_05m_ruw', frmt, direc, 'AHN2_05m_DSM')\n",
    "getGeotiffFromWebCoverageService(url, version, bbox, \n",
    "                                 'ahn2_05m_int', frmt, direc, 'AHN2_05m_DTM')\n"
   ]
  },
  {
   "cell_type": "code",
   "execution_count": 13,
   "metadata": {},
   "outputs": [
    {
     "data": {
      "text/plain": [
       "<matplotlib.axes._subplots.AxesSubplot at 0x7f39107839e8>"
      ]
     },
     "execution_count": 13,
     "metadata": {},
     "output_type": "execute_result"
    },
    {
     "data": {
      "image/png": "[encoded data removed]",
      "text/plain": [
       "<Figure size 432x288 with 1 Axes>"
      ]
     },
     "metadata": {
      "needs_background": "light"
     },
     "output_type": "display_data"
    }
   ],
   "source": [
    "# get wfs of Wageningen\n",
    "bgtURL = 'https://geodata.nationaalgeoregister.nl/beta/bgt/wfs'\n",
    "bgtversion = '2.0.0'\n",
    "typename = 'bgt:pand'\n",
    "buildingsGDF = getDataFromWebFeatureService(bgtURL, bgtversion, bbox, typename)\n",
    "\n",
    "%matplotlib inline \n",
    "buildingsGDF.plot() # pot to check if download succeeded"
   ]
  },
  {
   "cell_type": "code",
   "execution_count": 15,
   "metadata": {},
   "outputs": [
    {
     "name": "stdout",
     "output_type": "stream",
     "text": [
      "0       8.619759\n",
      "1    2365.662576\n",
      "2    1906.590021\n",
      "3     380.101205\n",
      "4      12.450120\n",
      "dtype: float64\n"
     ]
    }
   ],
   "source": [
    "print(buildingsGDF.area.head())\n"
   ]
  },
  {
   "cell_type": "code",
   "execution_count": 19,
   "metadata": {},
   "outputs": [],
   "source": [
    "# create heightmodel from difference DSM and DTM\n",
    "DSM = rasterio.open(\"./data/AHN2_05m_DSM.tif\", driver=\"GTiff\")\n",
    "DTM = rasterio.open(\"./data/AHN2_05m_DTM.tif\", driver=\"GTiff\")\n",
    "buildingsHeight = DSM.read() - DTM.read()\n",
    "\n",
    "# save to geotif\n",
    "kwargs = DSM.meta # Copy metadata of rasterio.io.DatasetReader\n",
    "writeGeotiffToFile(buildingsHeight, 'output', 'buildingsHeight', kwargs)"
   ]
  },
  {
   "cell_type": "code",
   "execution_count": 18,
   "metadata": {},
   "outputs": [
    {
     "name": "stdout",
     "output_type": "stream",
     "text": [
      "Help on function zonal_stats in module rasterstats.main:\n",
      "\n",
      "zonal_stats(*args, **kwargs)\n",
      "    The primary zonal statistics entry point.\n",
      "    \n",
      "    All arguments are passed directly to ``gen_zonal_stats``.\n",
      "    See its docstring for details.\n",
      "    \n",
      "    The only difference is that ``zonal_stats`` will\n",
      "    return a list rather than a generator.\n",
      "\n"
     ]
    }
   ],
   "source": []
  },
  {
   "cell_type": "code",
   "execution_count": null,
   "metadata": {},
   "outputs": [],
   "source": []
  },
  {
   "cell_type": "code",
   "execution_count": null,
   "metadata": {},
   "outputs": [],
   "source": []
  }
 ],
 "metadata": {
  "kernelspec": {
   "display_name": "Python 3",
   "language": "python",
   "name": "python3"
  },
  "language_info": {
   "codemirror_mode": {
    "name": "ipython",
    "version": 3
   },
   "file_extension": ".py",
   "mimetype": "text/x-python",
   "name": "python",
   "nbconvert_exporter": "python",
   "pygments_lexer": "ipython3",
   "version": "3.7.2"
  }
 },
 "nbformat": 4,
 "nbformat_minor": 2
}
